{
 "cells": [
  {
   "cell_type": "code",
   "execution_count": 1,
   "metadata": {},
   "outputs": [],
   "source": [
    "from __future__ import division, print_function, absolute_import\n",
    "\n",
    "import tensorflow as tf\n",
    "layers = tf.keras.layers\n",
    "from tensorflow.contrib import autograph\n",
    "\n",
    "import numpy as np\n",
    "import matplotlib.pyplot as plt\n",
    "\n",
    "tf.enable_eager_execution()"
   ]
  },
  {
   "cell_type": "code",
   "execution_count": 2,
   "metadata": {},
   "outputs": [],
   "source": [
    "def square_if_positive(x):\n",
    "    if x > 0:\n",
    "        x = x * x\n",
    "    else:\n",
    "        x = 0.0\n",
    "    return x"
   ]
  },
  {
   "cell_type": "code",
   "execution_count": 3,
   "metadata": {},
   "outputs": [
    {
     "name": "stdout",
     "output_type": "stream",
     "text": [
      "from __future__ import print_function\n",
      "import tensorflow as tf\n",
      "\n",
      "def tf__square_if_positive(x):\n",
      "  try:\n",
      "    with ag__.function_scope('square_if_positive'):\n",
      "\n",
      "      def if_true():\n",
      "        with ag__.function_scope('if_true'):\n",
      "          x_1, = x,\n",
      "          x_1 = x_1 * x_1\n",
      "          return x_1,\n",
      "\n",
      "      def if_false():\n",
      "        with ag__.function_scope('if_false'):\n",
      "          x_2, = x,\n",
      "          x_2 = 0.0\n",
      "          return x_2,\n",
      "      x = ag__.utils.run_cond(tf.greater(x, 0), if_true, if_false)\n",
      "      return x\n",
      "  except:\n",
      "    ag__.rewrite_graph_construction_error(ag_source_map__)\n",
      "\n",
      "\n",
      "\n",
      "tf__square_if_positive.autograph_info__ = {}\n",
      "\n"
     ]
    }
   ],
   "source": [
    "print(autograph.to_code(square_if_positive))"
   ]
  },
  {
   "cell_type": "code",
   "execution_count": 4,
   "metadata": {},
   "outputs": [
    {
     "name": "stdout",
     "output_type": "stream",
     "text": [
      "Eager results: 81.00, 0.00\n"
     ]
    }
   ],
   "source": [
    "print('Eager results: %2.2f, %2.2f' % (square_if_positive(tf.constant(9.0)),\n",
    "                                      square_if_positive(tf.constant(-9.0))))"
   ]
  },
  {
   "cell_type": "code",
   "execution_count": 5,
   "metadata": {},
   "outputs": [
    {
     "name": "stdout",
     "output_type": "stream",
     "text": [
      "Graph results: 81.00, 0.00\n",
      "\n"
     ]
    }
   ],
   "source": [
    "tf_square_if_positive = autograph.to_graph(square_if_positive)\n",
    "\n",
    "with tf.Graph().as_default():\n",
    "    g_out1 = tf_square_if_positive(tf.constant(9.0))\n",
    "    g_out2 = tf_square_if_positive(tf.constant(-9.0))\n",
    "    with tf.Session() as sess:\n",
    "        print(\"Graph results: %2.2f, %2.2f\\n\" % (sess.run(g_out1), \n",
    "                                                  sess.run(g_out2)))"
   ]
  },
  {
   "cell_type": "code",
   "execution_count": 6,
   "metadata": {},
   "outputs": [
    {
     "name": "stdout",
     "output_type": "stream",
     "text": [
      "Eager result: 42\n",
      "Graph result: 42\n",
      "\n",
      "\n"
     ]
    }
   ],
   "source": [
    "def sum_even(items):\n",
    "    s = 0\n",
    "    for c in items:\n",
    "        if c % 2 > 0:\n",
    "            continue\n",
    "        s += c\n",
    "    return s\n",
    "print('Eager result: %d' % sum_even(tf.constant([10, 12, 15, 20])))\n",
    "\n",
    "tf_sum_even = autograph.to_graph(sum_even)\n",
    "\n",
    "with tf.Graph().as_default(), tf.Session() as sess:\n",
    "    print(\"Graph result: %d\\n\\n\" % sess.run(tf_sum_even(tf.constant([10, 12, 15, 20]))))"
   ]
  },
  {
   "cell_type": "code",
   "execution_count": 7,
   "metadata": {},
   "outputs": [
    {
     "name": "stdout",
     "output_type": "stream",
     "text": [
      "from __future__ import print_function\n",
      "import tensorflow as tf\n",
      "\n",
      "def tf__sum_even(items):\n",
      "  try:\n",
      "    with ag__.function_scope('sum_even'):\n",
      "      s = 0\n",
      "\n",
      "      def extra_test(s_2):\n",
      "        with ag__.function_scope('extra_test'):\n",
      "          return True\n",
      "\n",
      "      def loop_body(loop_vars, s_2):\n",
      "        with ag__.function_scope('loop_body'):\n",
      "          c = loop_vars\n",
      "          continue_ = tf.constant(False)\n",
      "\n",
      "          def if_true():\n",
      "            with ag__.function_scope('if_true'):\n",
      "              continue__1, = continue_,\n",
      "              continue__1 = tf.constant(True)\n",
      "              return continue__1,\n",
      "\n",
      "          def if_false():\n",
      "            with ag__.function_scope('if_false'):\n",
      "              return continue_,\n",
      "          continue_ = ag__.utils.run_cond(tf.greater(c % 2, 0), if_true, if_false)\n",
      "\n",
      "          def if_true_1():\n",
      "            with ag__.function_scope('if_true_1'):\n",
      "              s_1, = s_2,\n",
      "              s_1 += c\n",
      "              return s_1,\n",
      "\n",
      "          def if_false_1():\n",
      "            with ag__.function_scope('if_false_1'):\n",
      "              return s_2,\n",
      "          s_2 = ag__.utils.run_cond(tf.logical_not(continue_), if_true_1, if_false_1)\n",
      "          return s_2,\n",
      "      s = ag__.for_stmt(items, extra_test, loop_body, (s,))\n",
      "      return s\n",
      "  except:\n",
      "    ag__.rewrite_graph_construction_error(ag_source_map__)\n",
      "\n",
      "\n",
      "\n",
      "tf__sum_even.autograph_info__ = {}\n",
      "\n"
     ]
    }
   ],
   "source": [
    "print(autograph.to_code(sum_even))"
   ]
  },
  {
   "cell_type": "code",
   "execution_count": 8,
   "metadata": {},
   "outputs": [
    {
     "name": "stdout",
     "output_type": "stream",
     "text": [
      "Buzz\n",
      "11\n",
      "Fizz\n",
      "13\n",
      "14\n",
      "FizzBuzz\n"
     ]
    }
   ],
   "source": [
    "@autograph.convert()\n",
    "def fizzbuzz(i, n):\n",
    "    while i < n:\n",
    "        msg = ''\n",
    "        if i % 3 == 0:\n",
    "            msg += 'Fizz'\n",
    "        if i % 5 == 0:\n",
    "            msg += 'Buzz'\n",
    "        if msg == '':\n",
    "            msg = tf.as_string(i)\n",
    "        print(msg)\n",
    "        i += 1\n",
    "    return i\n",
    "\n",
    "with tf.Graph().as_default():\n",
    "    final_i = fizzbuzz(tf.constant(10), tf.constant(16))\n",
    "    with tf.Session() as sess:\n",
    "        sess.run(final_i)"
   ]
  },
  {
   "cell_type": "code",
   "execution_count": 9,
   "metadata": {},
   "outputs": [
    {
     "name": "stdout",
     "output_type": "stream",
     "text": [
      "Got error message:\n",
      " assertion failed: [Do not pass zero!]\n",
      "\t [[node inverse/Assert/Assert (defined at /var/folders/f5/yns8fq1s48g03ncqddxz0rmm0000gn/T/tmpbofkpaey.py:6)  = Assert[T=[DT_STRING], summarize=3, _device=\"/job:localhost/replica:0/task:0/device:CPU:0\"](inverse/NotEqual, inverse/Assert/Assert/data_0)]]\n"
     ]
    }
   ],
   "source": [
    "@autograph.convert()\n",
    "def inverse(x):\n",
    "    assert x != 0.0, 'Do not pass zero!'\n",
    "    return 1.0 / x\n",
    "\n",
    "with tf.Graph().as_default(), tf.Session() as sess:\n",
    "    try:\n",
    "        print(sess.run(inverse(tf.constant(0.0))))\n",
    "    except tf.errors.InvalidArgumentError as e:\n",
    "        print('Got error message:\\n %s' % e.message)"
   ]
  },
  {
   "cell_type": "code",
   "execution_count": 10,
   "metadata": {},
   "outputs": [],
   "source": [
    "@autograph.convert()\n",
    "def count(n):\n",
    "    i = 0\n",
    "    while i < n:\n",
    "        print(i)\n",
    "        i += 1\n",
    "    return n\n",
    "\n",
    "with tf.Graph().as_default(), tf.Session() as sess:\n",
    "    sess.run(count(tf.constant(5)))"
   ]
  },
  {
   "cell_type": "code",
   "execution_count": 11,
   "metadata": {},
   "outputs": [],
   "source": [
    "@autograph.convert()\n",
    "def arange(n):\n",
    "    z = []\n",
    "    autograph.set_element_type(z, tf.int32)\n",
    "    \n",
    "    for i in tf.range(n):\n",
    "        z.append(i)\n",
    "    return autograph.stack(z)\n",
    "\n",
    "with tf.Graph().as_default(), tf.Session() as sess:\n",
    "    sess.run(arange(tf.constant(10)))"
   ]
  },
  {
   "cell_type": "code",
   "execution_count": 12,
   "metadata": {},
   "outputs": [
    {
     "name": "stdout",
     "output_type": "stream",
     "text": [
      "17\n",
      "25\n",
      "37\n"
     ]
    }
   ],
   "source": [
    "@autograph.convert()\n",
    "def nearest_odd_square(x):\n",
    "    if x > 0:\n",
    "        x = x * x\n",
    "        if x % 2 == 0:\n",
    "            x = x + 1\n",
    "    return x\n",
    "\n",
    "with tf.Graph().as_default():\n",
    "    with tf.Session() as sess:\n",
    "        print(sess.run(nearest_odd_square(tf.constant(4))))\n",
    "        print(sess.run(nearest_odd_square(tf.constant(5))))\n",
    "        print(sess.run(nearest_odd_square(tf.constant(6))))"
   ]
  },
  {
   "cell_type": "code",
   "execution_count": 13,
   "metadata": {},
   "outputs": [
    {
     "name": "stdout",
     "output_type": "stream",
     "text": [
      "256\n"
     ]
    }
   ],
   "source": [
    "@autograph.convert()\n",
    "def square_until_stop(x, y):\n",
    "    while x < y:\n",
    "        x = x * x\n",
    "    return x\n",
    "\n",
    "with tf.Graph().as_default():\n",
    "    with tf.Session() as sess:\n",
    "        print(sess.run(square_until_stop(tf.constant(4), tf.constant(100))))"
   ]
  },
  {
   "cell_type": "code",
   "execution_count": 14,
   "metadata": {},
   "outputs": [
    {
     "name": "stdout",
     "output_type": "stream",
     "text": [
      "[ 0  1  4  9 16 25 36 49 64 81]\n"
     ]
    }
   ],
   "source": [
    "@autograph.convert()\n",
    "def squares(nums):\n",
    "    result = []\n",
    "    autograph.set_element_type(result, tf.int64)\n",
    "    for num in nums:\n",
    "        result.append(num * num)\n",
    "    return autograph.stack(result)\n",
    "\n",
    "with tf.Graph().as_default():\n",
    "    with tf.Session() as sess:\n",
    "        print(sess.run(squares(tf.constant(np.arange(10)))))"
   ]
  },
  {
   "cell_type": "code",
   "execution_count": 15,
   "metadata": {},
   "outputs": [
    {
     "name": "stdout",
     "output_type": "stream",
     "text": [
      "5\n"
     ]
    }
   ],
   "source": [
    "@autograph.convert()\n",
    "def argwhere_cumsum(x, threshold):\n",
    "    current_sum = 0.0\n",
    "    idx = 0\n",
    "    for i in tf.range(len(x)):\n",
    "        idx = i\n",
    "        if current_sum >= threshold:\n",
    "            break\n",
    "        current_sum += x[i]\n",
    "    return idx\n",
    "N = 10\n",
    "with tf.Graph().as_default():\n",
    "    with tf.Session() as sess:\n",
    "        idx = argwhere_cumsum(tf.ones(N), tf.constant(float(N/2)))\n",
    "        print(sess.run(idx))"
   ]
  },
  {
   "cell_type": "code",
   "execution_count": 16,
   "metadata": {},
   "outputs": [
    {
     "data": {
      "text/plain": [
       "array([261], dtype=int32)"
      ]
     },
     "execution_count": 16,
     "metadata": {},
     "output_type": "execute_result"
    }
   ],
   "source": [
    "@autograph.convert()\n",
    "def collatz(x):\n",
    "    x = tf.reshape(x, ())\n",
    "    assert x > 0\n",
    "    n = tf.convert_to_tensor((0,))\n",
    "    while not tf.equal(x, 1):\n",
    "        n += 1\n",
    "        if tf.equal(x%2, 0):\n",
    "            x = x // 2\n",
    "        else:\n",
    "            x = 3 * x + 1\n",
    "    return n\n",
    "\n",
    "with tf.Graph().as_default():\n",
    "    model = tf.keras.Sequential([\n",
    "        tf.keras.layers.Lambda(collatz, input_shape=(1,), output_shape=())\n",
    "    ])\n",
    "result = model.predict(np.array([6171]))\n",
    "result"
   ]
  },
  {
   "cell_type": "code",
   "execution_count": 3,
   "metadata": {},
   "outputs": [],
   "source": [
    "K = tf.keras.backend\n",
    "\n",
    "class StockasticNetworkDepth(tf.keras.Sequential):\n",
    "    def __init__(self, pfirst=1.0, plast=0.5, *args, **kwargs):\n",
    "        self.pfirst = pfirst\n",
    "        self.plast = plast\n",
    "        super().__init__(*args, **kwargs)\n",
    "        \n",
    "    def build(self, input_shape):\n",
    "        super().build(input_shape.as_list())\n",
    "        self.depth = len(self.layers)\n",
    "        self.plims = np.linspace(self.pfirst, \n",
    "                                 self.plast, \n",
    "                                 self.depth + 1)[:-1]\n",
    "    @autograph.convert()\n",
    "    def call(self, inputs):\n",
    "        training = tf.cast(K.learning_phase(), dtype=bool)\n",
    "        if not training:\n",
    "            count = self.depth\n",
    "            return super(StockasticNetworkDepth, self).call(inputs), count\n",
    "        \n",
    "        p = tf.random_uniform((self.depth,))\n",
    "        keeps = (p <= self.plims)\n",
    "        x = inputs\n",
    "        \n",
    "        count = tf.reduce_sum(tf.cast(keeps, tf.int32))\n",
    "        for i in range(self.depth):\n",
    "            if keeps[i]:\n",
    "                x = self.layers[i](x)\n",
    "        return x, count"
   ]
  },
  {
   "cell_type": "code",
   "execution_count": 4,
   "metadata": {},
   "outputs": [],
   "source": [
    "train_batch = np.random.randn(64, 28, 28, 1).astype(np.float32)"
   ]
  },
  {
   "cell_type": "code",
   "execution_count": 5,
   "metadata": {},
   "outputs": [],
   "source": [
    "with tf.Graph().as_default() as g:\n",
    "    model = StockasticNetworkDepth(pfirst=1.0, plast=0.5)\n",
    "    for n in range(20):\n",
    "        model.add(layers.Conv2D(filters=16, activation=tf.nn.relu,\n",
    "                               kernel_size=(3, 3), padding='same'))\n",
    "    model.build(tf.TensorShape((None, None, None, 1)))\n",
    "    init = tf.global_variables_initializer()"
   ]
  },
  {
   "cell_type": "code",
   "execution_count": 6,
   "metadata": {},
   "outputs": [
    {
     "name": "stdout",
     "output_type": "stream",
     "text": [
      "test sum abs delta:  0.0\n",
      "  layers 1st call:  20\n",
      "  layers 2st call:  20\n",
      "\n",
      "train sum abs delta:  0.00077342\n",
      "  layers 1st call:  16\n",
      "  layers 2st call:  12\n",
      "\n"
     ]
    }
   ],
   "source": [
    "with tf.Session(graph=g) as sess:\n",
    "    init.run()\n",
    "    for phase, name in enumerate(['test', 'train']):\n",
    "        K.set_learning_phase(phase)\n",
    "        result, count = model(tf.convert_to_tensor(train_batch, dtype=tf.float32))\n",
    "        result1, count1 = sess.run((result, count))\n",
    "        result2, count2 = sess.run((result, count))\n",
    "        delta = (result1 - result2)\n",
    "        print(name, \"sum abs delta: \", abs(delta).mean())\n",
    "        print(\"  layers 1st call: \", count1)\n",
    "        print(\"  layers 2st call: \", count2)\n",
    "        print()"
   ]
  },
  {
   "cell_type": "code",
   "execution_count": 2,
   "metadata": {},
   "outputs": [],
   "source": [
    "(train_images, train_labels), (test_images, test_labels) = tf.keras.datasets.mnist.load_data()"
   ]
  },
  {
   "cell_type": "code",
   "execution_count": 3,
   "metadata": {},
   "outputs": [],
   "source": [
    "def mlp_model(input_shape):\n",
    "    model = tf.keras.Sequential((\n",
    "        tf.keras.layers.Dense(100, activation='relu', input_shape=input_shape),\n",
    "        tf.keras.layers.Dense(100, activation='relu'),\n",
    "        tf.keras.layers.Dense(10, activation='softmax')))\n",
    "    model.build()\n",
    "    return model\n",
    "\n",
    "def predict(m, x, y):\n",
    "    y_p = m(tf.reshape(x, (-1, 28 * 28)))\n",
    "    losses = tf.keras.losses.categorical_crossentropy(y, y_p)\n",
    "    l = tf.reduce_mean(losses)\n",
    "    accuracies = tf.keras.metrics.categorical_accuracy(y, y_p)\n",
    "    accuracy = tf.reduce_mean(accuracies)\n",
    "    return l, accuracy\n",
    "\n",
    "def fit(m, x, y, opt):\n",
    "    l, accuracy = predict(m, x, y)\n",
    "    opt.minimize(l)\n",
    "    return l, accuracy\n",
    "\n",
    "def setup_mnist_data(is_training, batch_size):\n",
    "    if is_training:\n",
    "        ds = tf.data.Dataset.from_tensor_slices((train_images, train_labels))\n",
    "        ds = ds.shuffle(batch_size * 10)\n",
    "    else:\n",
    "        ds = tf.data.Dataset.from_tensor_slices((test_images, test_labels))\n",
    "        \n",
    "    ds = ds.repeat()\n",
    "    ds = ds.batch(batch_size)\n",
    "    return ds\n",
    "\n",
    "def get_next_batch(ds):\n",
    "    itr = ds.make_one_shot_iterator()\n",
    "    image, label = itr.get_next()\n",
    "    x = tf.to_float(image) / 255.0\n",
    "    y = tf.one_hot(tf.squeeze(label), 10)\n",
    "    return x, y"
   ]
  },
  {
   "cell_type": "code",
   "execution_count": 4,
   "metadata": {},
   "outputs": [],
   "source": [
    "@autograph.convert(recursive=True)\n",
    "def train(train_ds, test_ds, hp):\n",
    "    m = mlp_model((28 * 28,))\n",
    "    opt = tf.train.AdamOptimizer(hp.learning_rate)\n",
    "    \n",
    "    train_losses = []\n",
    "    autograph.set_element_type(train_losses, tf.float32)\n",
    "    test_losses = []\n",
    "    autograph.set_element_type(test_losses, tf.float32)\n",
    "    train_accuracies = []\n",
    "    autograph.set_element_type(train_accuracies, tf.float32)\n",
    "    test_accuracies = []\n",
    "    autograph.set_element_type(test_accuracies, tf.float32)\n",
    "    \n",
    "    i = tf.constant(0)\n",
    "    while i < hp.max_steps:\n",
    "        train_x , train_y = get_next_batch(train_ds)\n",
    "        test_x, test_y = get_next_batch(test_ds)\n",
    "        \n",
    "        step_train_loss, step_train_accuracy = fit(m, train_x, train_y, opt)\n",
    "        step_test_loss, step_test_accuracy = predict(m, test_x, test_y)\n",
    "        if i % (hp.max_steps // 10) == 0:\n",
    "            print('Step', i , 'train loss:', step_train_loss, 'test loss:',\n",
    "                 step_test_loss, 'train accuracy:', step_train_accuracy,\n",
    "                 'test accuracy:', step_test_accuracy)\n",
    "            train_losses.append(step_train_loss)\n",
    "            test_losses.append(step_test_loss)\n",
    "            train_accuracies.append(step_train_accuracy)\n",
    "            test_accuracies.append(step_test_accuracy)\n",
    "            i += 1\n",
    "    return (autograph.stack(train_losses), autograph.stack(test_losses),\n",
    "          autograph.stack(train_accuracies), autograph.stack(test_accuracies))"
   ]
  },
  {
   "cell_type": "code",
   "execution_count": 5,
   "metadata": {},
   "outputs": [
    {
     "name": "stdout",
     "output_type": "stream",
     "text": [
      "Step 0 train loss: 2.3296132 test loss: 2.3195236 train accuracy: 0.12 test accuracy: 0.119\n",
      "Step 50 train loss: 0.4218862 test loss: 0.512168 train accuracy: 0.82 test accuracy: 0.833\n",
      "Step 100 train loss: 0.550147 test loss: 0.31937623 train accuracy: 0.82 test accuracy: 0.901\n",
      "Step 150 train loss: 0.18896614 test loss: 0.28412104 train accuracy: 0.94 test accuracy: 0.907\n",
      "Step 200 train loss: 0.44442832 test loss: 0.28919753 train accuracy: 0.88 test accuracy: 0.902\n",
      "Step 250 train loss: 0.37856647 test loss: 0.28698784 train accuracy: 0.86 test accuracy: 0.911\n",
      "Step 300 train loss: 0.14236605 test loss: 0.18872942 train accuracy: 0.96 test accuracy: 0.936\n",
      "Step 350 train loss: 0.33152893 test loss: 0.21804051 train accuracy: 0.9 test accuracy: 0.932\n",
      "Step 400 train loss: 0.37663615 test loss: 0.19497588 train accuracy: 0.94 test accuracy: 0.946\n",
      "Step 450 train loss: 0.19619021 test loss: 0.2192691 train accuracy: 0.92 test accuracy: 0.925\n"
     ]
    },
    {
     "data": {
      "image/png": "[encoded data removed]",
      "text/plain": [
       "<Figure size 432x288 with 1 Axes>"
      ]
     },
     "metadata": {
      "needs_background": "light"
     },
     "output_type": "display_data"
    },
    {
     "data": {
      "image/png": "[encoded data removed]",
      "text/plain": [
       "<Figure size 432x288 with 1 Axes>"
      ]
     },
     "metadata": {
      "needs_background": "light"
     },
     "output_type": "display_data"
    }
   ],
   "source": [
    "with tf.Graph().as_default() as g:\n",
    "    hp = tf.contrib.training.HParams(\n",
    "        learning_rate=0.005,\n",
    "        max_steps=500,\n",
    "    )\n",
    "    train_ds = setup_mnist_data(True, 50)\n",
    "    test_ds = setup_mnist_data(False, 1000)\n",
    "    (train_losses, test_losses, train_accuracies,\n",
    "    test_accuracies) = train(train_ds, test_ds, hp)\n",
    "    init = tf.global_variables_initializer()\n",
    "    \n",
    "with tf.Session(graph=g) as sess:\n",
    "    sess.run(init)\n",
    "    (train_losses, test_losses, train_accuracies,\n",
    "    test_accuracies) = sess.run([train_losses, test_losses, train_accuracies,\n",
    "                                test_accuracies])\n",
    "    \n",
    "plt.title(\"MNIST train/test losses\")\n",
    "plt.plot(train_losses, label='train loss')\n",
    "plt.plot(test_losses, label='test loss')\n",
    "plt.legend()\n",
    "\n",
    "plt.xlabel('Training step')\n",
    "plt.ylabel('Loss')\n",
    "plt.show()\n",
    "\n",
    "plt.title('MNIST train/test accuracies')\n",
    "plt.plot(train_accuracies, label='train accuracy')\n",
    "plt.plot(test_accuracies, label='test accuracy')\n",
    "plt.legend(loc='lower right')\n",
    "plt.xlabel('Training step')\n",
    "plt.ylabel('Accuracy')\n",
    "plt.show()"
   ]
  },
  {
   "cell_type": "code",
   "execution_count": null,
   "metadata": {},
   "outputs": [],
   "source": []
  }
 ],
 "metadata": {
  "kernelspec": {
   "display_name": "Python 3",
   "language": "python",
   "name": "python3"
  },
  "language_info": {
   "codemirror_mode": {
    "name": "ipython",
    "version": 3
   },
   "file_extension": ".py",
   "mimetype": "text/x-python",
   "name": "python",
   "nbconvert_exporter": "python",
   "pygments_lexer": "ipython3",
   "version": "3.6.4"
  }
 },
 "nbformat": 4,
 "nbformat_minor": 2
}
